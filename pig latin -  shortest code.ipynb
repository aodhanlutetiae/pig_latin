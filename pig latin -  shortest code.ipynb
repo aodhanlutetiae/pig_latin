{
 "cells": [
  {
   "cell_type": "markdown",
   "metadata": {},
   "source": [
    "### One Word: english to pig latin"
   ]
  },
  {
   "cell_type": "code",
   "execution_count": 2,
   "metadata": {},
   "outputs": [],
   "source": [
    "# won't work with a single consonant\n",
    "\n",
    "\n",
    "def vowelLocator(word): \n",
    "    vowelList = [\"a\", \"e\", \"i\", \"o\", \"u\"]\n",
    "    \n",
    "    for c in word: \n",
    "        if c in vowelList: \n",
    "            i = word.index(c)\n",
    "            print (word[i:]+word[:i]+'ay')\n",
    "\n",
    "            "
   ]
  },
  {
   "cell_type": "code",
   "execution_count": 3,
   "metadata": {},
   "outputs": [
    {
     "name": "stdout",
     "output_type": "stream",
     "text": [
      "aytray\n"
     ]
    }
   ],
   "source": [
    "vowelLocator(word = \"tray\")"
   ]
  },
  {
   "cell_type": "markdown",
   "metadata": {},
   "source": [
    "### import a paragraph of text and render it into piglatin"
   ]
  },
  {
   "cell_type": "code",
   "execution_count": 4,
   "metadata": {},
   "outputs": [
    {
     "name": "stdout",
     "output_type": "stream",
     "text": [
      "\n",
      "Tory MPs are increasingly angry at the prospect of voters being asked to go to the polls to elect MEPs three years after the Brexit referendum, in an election they fear will be boycotted by many Conservatives and be a gift to the far right and Nigel Farage’s new Brexit party. Senior Tories said one silver lining of a long extension would be that it would allow them to move quickly to force May out, and hold a leadership election starting as soon as this month.\n",
      "\n"
     ]
    }
   ],
   "source": [
    "# import and print a body of text\n",
    "\n",
    "f = open('/Users/aidanairuser/Desktop/gdn_par.txt', 'r', encoding='utf-8-sig') # use the encoding to avoid 'ufeff'\n",
    "\n",
    "par = (f.read()) # since 'f' is an operation, you can't print (f), you have to print f.read or redefine\n",
    "\n",
    "print (par)\n"
   ]
  },
  {
   "cell_type": "code",
   "execution_count": 5,
   "metadata": {},
   "outputs": [],
   "source": [
    "word_list = par.split(sep=None, maxsplit=-1)"
   ]
  },
  {
   "cell_type": "code",
   "execution_count": 6,
   "metadata": {},
   "outputs": [
    {
     "name": "stdout",
     "output_type": "stream",
     "text": [
      "orytay psmay earay increasinglyay angryay atay ethay ectprospay ofay ersvotay ingbeay edaskay otay ogay otay ethay ollspay otay electay mepsay eethray arsyeay eraftay ethay itbrexay um,referenday inay anay onelectiay eythay arfeay illway ebay edboycottay byay anymay ervativesconsay anday ebay aay iftgay otay ethay arfay ightray anday elnigay e’sfaragay ewnay itbrexay arty.pay orseniay estoriay idsaay eonay ersilvay ininglay ofay aay onglay onextensiay uldwoay ebay atthay itay uldwoay owallay emthay otay emovay icklyquay otay eforcay aymay ut,oay anday oldhay aay ipleadershay onelectiay ingstartay asay oonsay asay isthay onth.may\n"
     ]
    }
   ],
   "source": [
    "# AS SIMPLE CODE -- won't work with a single consonant\n",
    "\n",
    "new_par = []\n",
    "vowel_list = [\"a\", \"e\", \"i\", \"o\", \"u\"]\n",
    "    \n",
    "for word in word_list:      # for every word in the word list, i.e. for 72 loops\n",
    "    \n",
    "    for char in word: \n",
    "        if char in vowel_list: \n",
    "            i = word.index(char)\n",
    "    \n",
    "    sol = word[i:]+word[:i]+'ay'\n",
    "    new_par.append(sol.lower())\n",
    "\n",
    "final_new_par = ' '.join(new_par)    \n",
    "print (final_new_par)"
   ]
  },
  {
   "cell_type": "code",
   "execution_count": 7,
   "metadata": {},
   "outputs": [],
   "source": [
    "# AS A FUNCTION \n",
    "\n",
    "# 11 lines of code\n",
    "\n",
    "def par_pig_short():\n",
    "    \n",
    "    new_par = []\n",
    "    vowel_list = [\"a\", \"e\", \"i\", \"o\", \"u\"]\n",
    "    \n",
    "    for word in word_list:      # for every word in the word list, i.e. for 72 loops\n",
    "    \n",
    "        for char in word: \n",
    "            if char in vowel_list: \n",
    "                i = word.index(char)\n",
    "    \n",
    "        sol = word[i:]+word[:i]+'ay'\n",
    "        new_par.append(sol.lower())\n",
    "\n",
    "    final_new_par = ' '.join(new_par)    \n",
    "\n",
    "    return final_new_par"
   ]
  },
  {
   "cell_type": "code",
   "execution_count": 8,
   "metadata": {},
   "outputs": [
    {
     "data": {
      "text/plain": [
       "'orytay psmay earay increasinglyay angryay atay ethay ectprospay ofay ersvotay ingbeay edaskay otay ogay otay ethay ollspay otay electay mepsay eethray arsyeay eraftay ethay itbrexay um,referenday inay anay onelectiay eythay arfeay illway ebay edboycottay byay anymay ervativesconsay anday ebay aay iftgay otay ethay arfay ightray anday elnigay e’sfaragay ewnay itbrexay arty.pay orseniay estoriay idsaay eonay ersilvay ininglay ofay aay onglay onextensiay uldwoay ebay atthay itay uldwoay owallay emthay otay emovay icklyquay otay eforcay aymay ut,oay anday oldhay aay ipleadershay onelectiay ingstartay asay oonsay asay isthay onth.may'"
      ]
     },
     "execution_count": 8,
     "metadata": {},
     "output_type": "execute_result"
    }
   ],
   "source": [
    "par_pig_short()"
   ]
  },
  {
   "cell_type": "code",
   "execution_count": null,
   "metadata": {},
   "outputs": [],
   "source": []
  }
 ],
 "metadata": {
  "kernelspec": {
   "display_name": "Python 3",
   "language": "python",
   "name": "python3"
  },
  "language_info": {
   "codemirror_mode": {
    "name": "ipython",
    "version": 3
   },
   "file_extension": ".py",
   "mimetype": "text/x-python",
   "name": "python",
   "nbconvert_exporter": "python",
   "pygments_lexer": "ipython3",
   "version": "3.6.8"
  }
 },
 "nbformat": 4,
 "nbformat_minor": 2
}

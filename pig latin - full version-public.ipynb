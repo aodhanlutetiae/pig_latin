{
 "cells": [
  {
   "cell_type": "markdown",
   "metadata": {},
   "source": [
    "### One Word: english to pig latin"
   ]
  },
  {
   "cell_type": "code",
   "execution_count": 82,
   "metadata": {},
   "outputs": [],
   "source": [
    "# ISSUES: rhythm, GDPR, nth, psst\n",
    "\n",
    "def to_pig(str):\n",
    "    \n",
    "    vowel = [\"a\", \"e\", \"i\", \"o\", \"u\"]\n",
    "    word = input('Enter the word:')\n",
    "    length = len (word)\n",
    "\n",
    "    if length == 1:\n",
    "        sol = word + 'ay'\n",
    "        return sol \n",
    "    \n",
    "    if length == 2:\n",
    "        if word [0] in vowel:\n",
    "            sol = word + 'ay'\n",
    "            return sol \n",
    "        else:\n",
    "            sol = word[1] + word[0] + 'ay'\n",
    "            return sol \n",
    "        \n",
    "    else:\n",
    "        \n",
    "        if word[0] in vowel:\n",
    "            sol = word + 'ay'\n",
    "            return sol \n",
    "        \n",
    "        if word[0] not in vowel and word[1] in vowel:\n",
    "            sol = word[1:] + word[0] + 'ay'\n",
    "            return sol \n",
    "        \n",
    "        if word[0] not in vowel and word[1] not in vowel:\n",
    "            if word [2] in vowel:\n",
    "                sol = word[2:] + word[0:2] + 'ay'\n",
    "                return sol \n",
    "            if word [2] not in vowel:\n",
    "                sol = word[3:] + word[0:3] + 'ay'\n",
    "                return sol \n"
   ]
  },
  {
   "cell_type": "code",
   "execution_count": 108,
   "metadata": {},
   "outputs": [
    {
     "name": "stdout",
     "output_type": "stream",
     "text": [
      "Enter the word:psst\n"
     ]
    },
    {
     "data": {
      "text/plain": [
       "'tpssay'"
      ]
     },
     "execution_count": 108,
     "metadata": {},
     "output_type": "execute_result"
    }
   ],
   "source": [
    "to_pig(str)"
   ]
  },
  {
   "cell_type": "markdown",
   "metadata": {},
   "source": [
    "### import a paragraph of text and render it into piglatin"
   ]
  },
  {
   "cell_type": "code",
   "execution_count": 89,
   "metadata": {},
   "outputs": [
    {
     "name": "stdout",
     "output_type": "stream",
     "text": [
      "\n",
      "Tory MPs are increasingly angry at the prospect of voters being asked to go to the polls to elect MEPs three years after the Brexit referendum, in an election they fear will be boycotted by many Conservatives and be a gift to the far right and Nigel Farage’s new Brexit party. Senior Tories said one silver lining of a long extension would be that it would allow them to move quickly to force May out, and hold a leadership election starting as soon as this month.\n",
      "\n"
     ]
    }
   ],
   "source": [
    "# import and print a body of text\n",
    "\n",
    "f = open('LOCAL LOCATION OF TXT FILE', 'r', encoding='utf-8-sig') # use the encoding to avoid 'ufeff'\n",
    "\n",
    "par = (f.read()) # since 'f' is an operation, you can't print (f), you have to print f.read or redefine\n",
    "\n",
    "print (par)\n"
   ]
  },
  {
   "cell_type": "code",
   "execution_count": 91,
   "metadata": {},
   "outputs": [],
   "source": [
    "word_list = par.split(sep=None, maxsplit=-1)\n"
   ]
  },
  {
   "cell_type": "code",
   "execution_count": 105,
   "metadata": {},
   "outputs": [],
   "source": [
    "\n",
    "new_par = []\n",
    "\n",
    "def to_pig_long():\n",
    "    \n",
    "    for item in word_list:\n",
    "    \n",
    "        vowel = [\"a\", \"e\", \"i\", \"o\", \"u\"]\n",
    "        length = len (item)\n",
    "    \n",
    "        if length == 1:\n",
    "            sol = item + 'ay'\n",
    "            new_par.append(sol.lower())\n",
    "            continue\n",
    "    \n",
    "        if length == 2:\n",
    "            if item [0] in vowel:\n",
    "                sol = item + 'ay'\n",
    "                new_par.append(sol.lower())\n",
    "                continue\n",
    "            else:\n",
    "                sol = item[1] + item[0] + 'ay'\n",
    "                new_par.append(sol.lower())\n",
    "                continue\n",
    "        else:\n",
    "        \n",
    "            if item[0] in vowel:\n",
    "                sol = item + 'ay'\n",
    "                new_par.append(sol.lower())\n",
    "                continue \n",
    "        \n",
    "            if item[0] not in vowel and item[1] in vowel:\n",
    "                sol = item[1:] + item[0] + 'ay'\n",
    "                new_par.append(sol.lower())\n",
    "                continue\n",
    "                \n",
    "            if item[0] not in vowel and item[1] not in vowel:\n",
    "                if item [2] in vowel:\n",
    "                    sol = item[2:] + item[0:2] + 'ay'\n",
    "                    new_par.append(sol.lower())\n",
    "                    continue\n",
    "                    \n",
    "            if item [2] not in vowel:\n",
    "                sol = item[3:] + item[0:3] + 'ay'\n",
    "                new_par.append(sol.lower())\n",
    "        \n",
    "    final_new_par = ' '.join(new_par)    \n",
    "\n",
    "    print (final_new_par)"
   ]
  },
  {
   "cell_type": "code",
   "execution_count": 106,
   "metadata": {
    "scrolled": true
   },
   "outputs": [
    {
     "name": "stdout",
     "output_type": "stream",
     "text": [
      "orytay mpsay areay increasinglyay angryay atay ethay ospectpray ofay otersvay eingbay askeday otay ogay otay ethay ollspay otay electay smepay eethray earsyay afteray ethay exitbray eferendum,ray inay anay electionay eythay earfay illway ebay oycottedbay ybay anymay onservativescay anday ebay aay iftgay otay ethay arfay ightray anday igelnay arage’sfay ewnay exitbray arty.pay eniorsay oriestay aidsay oneay ilversay ininglay ofay aay onglay extensionay ouldway ebay atthay itay ouldway alloway emthay otay ovemay uicklyqay otay orcefay aymay out,ay anday oldhay aay eadershiplay electionay artingstay asay oonsay asay isthay onth.may\n"
     ]
    }
   ],
   "source": [
    "to_pig_long()"
   ]
  },
  {
   "cell_type": "code",
   "execution_count": null,
   "metadata": {},
   "outputs": [],
   "source": []
  }
 ],
 "metadata": {
  "kernelspec": {
   "display_name": "Python 3",
   "language": "python",
   "name": "python3"
  },
  "language_info": {
   "codemirror_mode": {
    "name": "ipython",
    "version": 3
   },
   "file_extension": ".py",
   "mimetype": "text/x-python",
   "name": "python",
   "nbconvert_exporter": "python",
   "pygments_lexer": "ipython3",
   "version": "3.6.8"
  }
 },
 "nbformat": 4,
 "nbformat_minor": 2
}
